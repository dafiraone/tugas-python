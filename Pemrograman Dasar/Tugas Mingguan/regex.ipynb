{
 "cells": [
  {
   "cell_type": "code",
   "execution_count": 3,
   "metadata": {},
   "outputs": [
    {
     "name": "stdout",
     "output_type": "stream",
     "text": [
      "Ditemukan: 2022\n"
     ]
    }
   ],
   "source": [
    "import re\n",
    "\n",
    "# Mencocokkan kata \"python\" dalam sebuah string\n",
    "text = \"Tahun 2022 dan 2023 adalah tahun yang baik.\"\n",
    "pattern = r\"\\d+\"\n",
    "match = re.search(pattern, text)\n",
    "\n",
    "if match:\n",
    "    print(\"Ditemukan:\", match.group())\n",
    "else:\n",
    "    print(\"Tidak ditemukan.\")\n"
   ]
  },
  {
   "cell_type": "code",
   "execution_count": 4,
   "metadata": {},
   "outputs": [
    {
     "name": "stdout",
     "output_type": "stream",
     "text": [
      "Ditemukan: ['2022', '2023', '2025']\n"
     ]
    }
   ],
   "source": [
    "import re\n",
    "\n",
    "# Mencari dan mengekstraksi angka dari sebuah string\n",
    "text = \"Tahun 2022 dan 2023 adalah tahun yang baik 2025.\"\n",
    "pattern = r\"\\d+\"\n",
    "match = re.findall(pattern, text)\n",
    "\n",
    "if match:\n",
    "    print(\"Ditemukan:\", match)\n",
    "else:\n",
    "    print(\"Tidak ditemukan.\")"
   ]
  },
  {
   "cell_type": "code",
   "execution_count": 14,
   "metadata": {},
   "outputs": [
    {
     "name": "stdout",
     "output_type": "stream",
     "text": [
      "diash\\nfirdaus\n"
     ]
    }
   ],
   "source": [
    "a = r'diash\\nfirdaus'\n",
    "print(a)"
   ]
  },
  {
   "cell_type": "code",
   "execution_count": 6,
   "metadata": {},
   "outputs": [
    {
     "name": "stdout",
     "output_type": "stream",
     "text": [
      "Hasil: Saya suka makan orange dan ibu saya juga suka orange \n"
     ]
    }
   ],
   "source": [
    "import re\n",
    "\n",
    "# Mengganti kata \"apple\" dengan \"orange\"\n",
    "text = \"Saya suka makan apple dan ibu saya juga suka \"\n",
    "pattern = r\"apple\"\n",
    "replacement = \"orange\"\n",
    "result = re.sub(pattern, replacement, text)\n",
    "\n",
    "print(\"Hasil:\", result)\n"
   ]
  },
  {
   "cell_type": "code",
   "execution_count": 1,
   "metadata": {},
   "outputs": [
    {
     "name": "stdout",
     "output_type": "stream",
     "text": [
      "Email valid.\n"
     ]
    }
   ],
   "source": [
    "import re\n",
    "\n",
    "def validasi_email(email):\n",
    "    pola = r\"^[\\sa-zA-Z0-9_.%+-]+@[a-zA-Z0-9.-]+\\.[a-zA-Z]{2,}+$\"\n",
    "    if re.match(pola, email):\n",
    "        return True\n",
    "    else:\n",
    "        return False\n",
    "\n",
    "# Contoh Penggunaan\n",
    "email_input = \"use@mhs.itenas.ac.id\"\n",
    "\n",
    "if validasi_email(email_input):\n",
    "    print(\"Email valid.\")\n",
    "else:\n",
    "    print(\"Email tidak valid.\")\n"
   ]
  },
  {
   "cell_type": "code",
   "execution_count": 2,
   "metadata": {},
   "outputs": [
    {
     "name": "stdout",
     "output_type": "stream",
     "text": [
      "Password sesuai dengan ketentuan.\n"
     ]
    }
   ],
   "source": [
    "import re\n",
    "\n",
    "def validasi_password(a):\n",
    "    # Regex untuk password\n",
    "    regex_password = r\"^(?=.*[a-z])(?=.*[A-Z])(?=.*\\d)(?=.*[^\\da-zA-Z]).{8,}$\"\n",
    "\n",
    "    if re.match(regex_password, a):\n",
    "        return True\n",
    "    else:\n",
    "        return False\n",
    "\n",
    "# Contoh Penggunaan\n",
    "password_input = \"!Diashitenas10\"\n",
    "\n",
    "if validasi_password(password_input):\n",
    "    print(\"Password sesuai dengan ketentuan.\")\n",
    "else:\n",
    "    print(\"Password tidak memenuhi ketentuan.\")\n",
    "\n",
    "# ^: Mencocokkan awal dari string.\n",
    "# (?=.*[a-z]): Setidaknya satu huruf kecil.\n",
    "# (?=.*[A-Z]): Setidaknya satu huruf besar.\n",
    "# (?=.*\\d): Setidaknya satu angka.\n",
    "# (?=.*[^\\da-zA-Z]): Setidaknya satu simbol atau karakter khusus.\n",
    "# .{8,}: Panjang password minimal 8 karakter.\n",
    "# $: Mencocokkan akhir dari string."
   ]
  },
  {
   "cell_type": "code",
   "execution_count": 6,
   "metadata": {},
   "outputs": [
    {
     "name": "stdout",
     "output_type": "stream",
     "text": [
      "Tidak ditemukan di awal string.\n"
     ]
    }
   ],
   "source": [
    "import re\n",
    "\n",
    "# String yang akan diuji\n",
    "text = \" is powerful Python.\"\n",
    "\n",
    "# Pola yang dicocokkan di awal string\n",
    "pattern = r\"Python\"\n",
    "\n",
    "# Menggunakan re.match() untuk mencocokkan pola di awal string\n",
    "match = re.match(pattern, text)\n",
    "\n",
    "# Memeriksa apakah ada kecocokan di awal string\n",
    "if match:\n",
    "    print(\"Ditemukan di awal string:\", match.group())\n",
    "else:\n",
    "    print(\"Tidak ditemukan di awal string.\")\n"
   ]
  },
  {
   "cell_type": "code",
   "execution_count": null,
   "metadata": {},
   "outputs": [],
   "source": []
  }
 ],
 "metadata": {
  "kernelspec": {
   "display_name": "base",
   "language": "python",
   "name": "python3"
  },
  "language_info": {
   "codemirror_mode": {
    "name": "ipython",
    "version": 3
   },
   "file_extension": ".py",
   "mimetype": "text/x-python",
   "name": "python",
   "nbconvert_exporter": "python",
   "pygments_lexer": "ipython3",
   "version": "3.12.0"
  }
 },
 "nbformat": 4,
 "nbformat_minor": 2
}
