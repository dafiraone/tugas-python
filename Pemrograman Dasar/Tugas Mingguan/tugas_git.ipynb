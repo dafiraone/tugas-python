{
 "cells": [
  {
   "cell_type": "code",
   "execution_count": 1,
   "metadata": {},
   "outputs": [
    {
     "name": "stdout",
     "output_type": "stream",
     "text": [
      "Sebelum peningkatan 5%\n",
      "    Nama  Usia   Gaji\n",
      "0   John    25  50000\n",
      "1   Jane    35  60000\n",
      "2    Bob    30  70000\n",
      "3  Alice    28  55000\n",
      "Setelah peningkatan 5%\n",
      "    Nama  Usia   Gaji  Gaji_meningkat\n",
      "0   John    25  50000         52500.0\n",
      "1   Jane    35  60000         63000.0\n",
      "2    Bob    30  70000         73500.0\n",
      "3  Alice    28  55000         57750.0\n",
      "Sebelum peningkatan 2% untuk usia > 30\n",
      "    Nama  Usia   Gaji  Gaji_meningkat\n",
      "0   John    25  50000         52500.0\n",
      "1   Jane    35  60000         63000.0\n",
      "2    Bob    30  70000         73500.0\n",
      "3  Alice    28  55000         57750.0\n",
      "Setelah peningkatan 2% untuk usia > 30\n",
      "    Nama  Usia   Gaji  Gaji_meningkat  Gaji_tambahan_diatas_30\n",
      "0   John    25  50000         52500.0                  52500.0\n",
      "1   Jane    35  60000         63000.0                  64260.0\n",
      "2    Bob    30  70000         73500.0                  73500.0\n",
      "3  Alice    28  55000         57750.0                  57750.0\n"
     ]
    }
   ],
   "source": [
    "import pandas as pd\n",
    "\n",
    "data = {'Nama': ['John', 'Jane', 'Bob', 'Alice'],\n",
    "        'Usia': [25, 35, 30, 28],\n",
    "        'Gaji': [50000, 60000, 70000, 55000]}\n",
    "\n",
    "df = pd.DataFrame(data)\n",
    "last_df = pd.DataFrame(data)\n",
    "\n",
    "# Pertanyaan 1:\n",
    "# Gunakan loop for dan fungsi lambda untuk menghitung gaji setiap karyawan setelah diberikan peningkatan sebesar 5% dari gaji saat ini.\n",
    "for index, row in df.iterrows():\n",
    "        df.at[index, 'Gaji_meningkat'] = (lambda x: x + (x*0.05))(row['Gaji'])\n",
    "\n",
    "# Pertanyaan 2:\n",
    "# Setelah perubahan dilakukan, tampilkan DataFrame yang sudah diperbarui dan berikan ringkasan perubahan yang telah terjadi.\n",
    "print('Sebelum peningkatan 5%')\n",
    "print(last_df)\n",
    "print('Setelah peningkatan 5%')\n",
    "print(df)\n",
    "\n",
    "last_df = df.copy()\n",
    "\n",
    "# Pertanyaan 3:\n",
    "# Gunakan loop for lagi untuk mengevaluasi karyawan yang usianya di atas 30 tahun. Jika usia karyawan di atas 30, berikan peningkatan tambahan sebesar 2% dari gaji saat ini menggunakan fungsi lambda.\n",
    "for index, row in df.iterrows():\n",
    "        if row['Usia'] > 30:\n",
    "                df.at[index, 'Gaji_tambahan_diatas_30'] = (lambda x: x + (x*0.02))(row['Gaji_meningkat'])\n",
    "        else:\n",
    "                df.at[index, 'Gaji_tambahan_diatas_30'] = (lambda x: x)(row['Gaji_meningkat'])\n",
    "\n",
    "\n",
    "\n",
    "# Pertanyaan 4:\n",
    "# Tampilkan DataFrame yang sudah diperbarui setelah peningkatan gaji tambahan dan berikan ringkasan hasilnya.\n",
    "print('Sebelum peningkatan 2% untuk usia > 30')\n",
    "print(last_df)\n",
    "print('Setelah peningkatan 2% untuk usia > 30')\n",
    "print(df)"
   ]
  }
 ],
 "metadata": {
  "kernelspec": {
   "display_name": "pemdas",
   "language": "python",
   "name": "python3"
  },
  "language_info": {
   "codemirror_mode": {
    "name": "ipython",
    "version": 3
   },
   "file_extension": ".py",
   "mimetype": "text/x-python",
   "name": "python",
   "nbconvert_exporter": "python",
   "pygments_lexer": "ipython3",
   "version": "3.12.0"
  }
 },
 "nbformat": 4,
 "nbformat_minor": 2
}
